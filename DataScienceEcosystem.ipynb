{
 "cells": [
  {
   "cell_type": "markdown",
   "id": "46b3f986-0994-4303-89d0-6d4fd00f5f12",
   "metadata": {},
   "source": [
    "# Execute it as a markdown cell\n",
    "# H1: This is a level 1 Heading\n",
    "## H2: This is a level 2 Heading\n",
    "### H3: This is a level 3 Heading\n",
    "#### H4: This is a level 4 Heading"
   ]
  },
  {
   "cell_type": "markdown",
   "id": "c7a1f36e-f62b-4789-8079-fdf475bbe24c",
   "metadata": {
    "tags": []
   },
   "source": [
    "# Data Science Tools and Ecosystem"
   ]
  },
  {
   "cell_type": "markdown",
   "id": "969e13a9-9333-4243-8331-b1bd436b026b",
   "metadata": {},
   "source": [
    "## In this notebook, Data Science Tools and Ecosystem are summarized.\n"
   ]
  },
  {
   "cell_type": "markdown",
   "id": "8fd83da5-6c50-4a22-b7bc-22e96664751a",
   "metadata": {},
   "source": [
    "Some of the popular languages that Data Scientists use are:\n",
    "\n",
    "1. Python\n",
    "2. R\n",
    "3. SQL\n",
    "4. Julia\n",
    "5. Scala\n"
   ]
  },
  {
   "cell_type": "markdown",
   "id": "2677e1a6-15c3-4269-abc6-4f6346369d7f",
   "metadata": {},
   "source": [
    "Some of the commonly used libraries used by Data Scientists include:\n",
    "\n",
    "\n",
    "    1. Matplotlip\n",
    "    2. Numpy\n",
    "    3. Pandas"
   ]
  },
  {
   "cell_type": "markdown",
   "id": "4a817b22-c917-4e00-80b3-f7f842fd1728",
   "metadata": {},
   "source": [
    "| Data Science Tools        |\n",
    "|---------------------------|\n",
    "| Jupyter Notebooks          |\n",
    "| RStudio                    |\n",
    "| Apache Zeppelin            |\n"
   ]
  },
  {
   "cell_type": "markdown",
   "id": "160416a8-f1ec-4b99-b372-683f0fe56d70",
   "metadata": {},
   "source": [
    "### Below are a few examples of evaluating arithmetic expressions in Python\n"
   ]
  },
  {
   "cell_type": "code",
   "execution_count": 15,
   "id": "4731f73e-9ef0-437a-9671-5e37b4d4c2c2",
   "metadata": {
    "tags": []
   },
   "outputs": [
    {
     "data": {
      "text/plain": [
       "17"
      ]
     },
     "execution_count": 15,
     "metadata": {},
     "output_type": "execute_result"
    }
   ],
   "source": [
    "# This is a simple arithmetic expression to multiply then add integers.\n",
    "result = (3 * 4) + 5\n",
    "result\n"
   ]
  },
  {
   "cell_type": "code",
   "execution_count": 16,
   "id": "ac66d303-8444-4d5e-a791-7aea2b5d38b0",
   "metadata": {
    "tags": []
   },
   "outputs": [
    {
     "data": {
      "text/plain": [
       "3.3333333333333335"
      ]
     },
     "execution_count": 16,
     "metadata": {},
     "output_type": "execute_result"
    }
   ],
   "source": [
    "# This will convert 200 minutes to hours by dividing by 60.\n",
    "minutes = 200\n",
    "hours = minutes / 60\n",
    "hours\n"
   ]
  },
  {
   "cell_type": "markdown",
   "id": "a3cdc236-27b1-4551-9817-bd4a482bd188",
   "metadata": {},
   "source": [
    "**Objectives:**\n",
    "\n",
    "- List popular languages for Data Science\n",
    "- Create a table of Data Science tools\n",
    "- Evaluate arithmetic expressions in Python\n",
    "- Convert minutes to hours\n",
    "- Introduce key concepts in Data Science\n"
   ]
  },
  {
   "cell_type": "markdown",
   "id": "75e61e78-7c77-4b05-9dca-7552eb6f7069",
   "metadata": {},
   "source": [
    "## Author\n",
    "\n",
    "Obianauju Mbanefo\n"
   ]
  },
  {
   "cell_type": "code",
   "execution_count": null,
   "id": "e419c820-7e22-4145-82f4-f0e3030980e6",
   "metadata": {},
   "outputs": [],
   "source": []
  }
 ],
 "metadata": {
  "kernelspec": {
   "display_name": "Python",
   "language": "python",
   "name": "conda-env-python-py"
  },
  "language_info": {
   "codemirror_mode": {
    "name": "ipython",
    "version": 3
   },
   "file_extension": ".py",
   "mimetype": "text/x-python",
   "name": "python",
   "nbconvert_exporter": "python",
   "pygments_lexer": "ipython3",
   "version": "3.7.12"
  }
 },
 "nbformat": 4,
 "nbformat_minor": 5
}
